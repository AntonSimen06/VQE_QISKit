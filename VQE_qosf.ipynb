{
 "cells": [
  {
   "cell_type": "markdown",
   "metadata": {},
   "source": [
    "## Finding the lowest eigenvalue of a matrix\n",
    "\n",
    "### Task 4 - Quantum Open Source Foundation"
   ]
  },
  {
   "cell_type": "code",
   "execution_count": 98,
   "metadata": {},
   "outputs": [],
   "source": [
    "from qiskit import*\n",
    "from qiskit.visualization import*\n",
    "from math import*\n",
    "import matplotlib.pyplot as plt\n",
    "import numpy as np"
   ]
  },
  {
   "cell_type": "code",
   "execution_count": 99,
   "metadata": {
    "scrolled": true
   },
   "outputs": [
    {
     "name": "stdout",
     "output_type": "stream",
     "text": [
      "[[ 1  0  0  0]\n",
      " [ 0  0 -1  0]\n",
      " [ 0 -1  0  0]\n",
      " [ 0  0  0  1]]\n"
     ]
    }
   ],
   "source": [
    "H = np.matrix([[1,0,0,0],[0,0,-1,0],[0,-1,0,0],[0,0,0,1]])\n",
    "print(H)"
   ]
  },
  {
   "cell_type": "markdown",
   "metadata": {},
   "source": [
    "#### In order to write the matrix $H$ above as a sum of Pauli terms $(XX, YY, ZZ, II)$, we can use the following expression\n",
    "#### $$H = \\sum h_{i,j}\\left(\\sigma_i\\otimes\\sigma_j\\right)$$\n",
    "#### where $$h_{i,j}=\\frac{1}{4}Tr[\\left(\\sigma_i\\otimes\\sigma_j\\right). H]$$"
   ]
  },
  {
   "cell_type": "code",
   "execution_count": 100,
   "metadata": {
    "scrolled": true
   },
   "outputs": [
    {
     "name": "stdout",
     "output_type": "stream",
     "text": [
      "H =\n",
      "-0.5*XX\n",
      "-0.5*YY\n",
      "0.5*ZZ\n",
      "0.5*II\n"
     ]
    }
   ],
   "source": [
    "xx = np.matrix([[0,0,0,1],[0,0,1,0],[0,1,0,0],[1,0,0,0]])\n",
    "yy = np.matrix([[0,0,0,-1],[0,0,1,0],[0,1,0,0],[-1,0,0,0]])\n",
    "zz = np.matrix([[1,0,0,0],[0,-1,0,0],[0,0,-1,-0],[0,0,0,1]])\n",
    "ii = np.matrix([[1,0,0,0],[0,1,0,0],[0,0,1,0],[0,0,0,1]])\n",
    "\n",
    "coef_xx = 0.25*np.trace(np.matmul(xx,H))\n",
    "coef_yy = 0.25*np.trace(np.matmul(yy,H))\n",
    "coef_zz = 0.25*np.trace(np.matmul(zz,H))\n",
    "coef_ii = 0.25*np.trace(np.matmul(ii,H))\n",
    "\n",
    "print('H =')\n",
    "print('%.1f*XX' %(coef_xx))\n",
    "print('%.1f*YY' %(coef_yy))\n",
    "print('%.1f*ZZ' %(coef_zz))\n",
    "print('%.1f*II' %(coef_ii))"
   ]
  },
  {
   "cell_type": "markdown",
   "metadata": {},
   "source": [
    "## Variational Quantum Eigensolver (VQE)\n",
    "\n",
    "##### According https://qiskit.org/textbook/ch-applications/vqe-molecules.html the VQE can be stated by \n",
    "\n",
    "##### $$\\lambda_{min}≤\\lambda_{\\theta}≡ \\langle\\psi\\left(\\theta\\right)|H|\\psi\\left(\\theta\\right)\\rangle$$\n",
    "\n",
    "##### $|\\psi\\left(\\theta\\right)\\rangle$ is a parametrized circuit called ansatz. In order to estimate the lowest eigenvalue of operator *H*, the circuit is iteratively optimized by a classical controller changing the parameter  $θ$  minimizing the expectation value $\\langle\\psi\\left(\\theta\\right)|H|\\psi\\left(\\theta\\right)\\rangle$.\n",
    "\n",
    "##### In this task the given $H$ is represented as a sum of pauli terms as follow\n",
    "\n",
    "##### $$H=\\frac{1}{2}ZZ+\\frac{1}{2}II-\\frac{1}{2}XX-\\frac{1}{2}YY$$\n",
    "\n",
    "##### for each iteration we have the expected value of H as the sum of the expected values of each Pauli operator\n",
    "\n",
    "##### $$\\langle\\psi\\left(\\theta\\right)|H|\\psi\\left(\\theta\\right)\\rangle = \\frac{1}{2}\\langle\\psi\\left(\\theta\\right)|ZZ|\\psi\\left(\\theta\\right)\\rangle + \\frac{1}{2}\\langle\\psi\\left(\\theta\\right)|II|\\psi\\left(\\theta\\right)\\rangle - \\frac{1}{2}\\langle\\psi\\left(\\theta\\right)|XX|\\psi\\left(\\theta\\right)\\rangle -\\frac{1}{2}\\langle\\psi\\left(\\theta\\right)|YY|\\psi\\left(\\theta\\right)\\rangle$$\n",
    "\n",
    "\n",
    "##### Next, we create an ansatz"
   ]
  },
  {
   "cell_type": "code",
   "execution_count": 101,
   "metadata": {},
   "outputs": [],
   "source": [
    "def var_circuit (variational_parameter):\n",
    "    circ = QuantumCircuit(2)\n",
    "    circ.h(0)\n",
    "    circ.cx(0,1)\n",
    "    circ.rx(variational_parameter,0)    \n",
    "    \n",
    "    return circ\n",
    "    \n"
   ]
  },
  {
   "cell_type": "code",
   "execution_count": 114,
   "metadata": {
    "scrolled": true
   },
   "outputs": [
    {
     "data": {
      "image/png": "[encoded data removed]",
      "text/plain": [
       "<Figure size 321.232x144.48 with 1 Axes>"
      ]
     },
     "execution_count": 114,
     "metadata": {},
     "output_type": "execute_result"
    }
   ],
   "source": [
    "var_circuit(variational_parameter='t').draw('mpl')"
   ]
  },
  {
   "cell_type": "code",
   "execution_count": 103,
   "metadata": {},
   "outputs": [],
   "source": [
    "'''Define a measurement at computational Z basis:'''\n",
    "\n",
    "def measureZZ (given_circuit):\n",
    "    zz_meas = given_circuit.copy()\n",
    "    zz_meas.measure_all()\n",
    "    return zz_meas\n"
   ]
  },
  {
   "cell_type": "code",
   "execution_count": 104,
   "metadata": {},
   "outputs": [],
   "source": [
    "def measure_ZZ(given_circuit,num_shots=10000):\n",
    "    \n",
    "    zz_meas = measureZZ(given_circuit)\n",
    "    \n",
    "    result = execute(zz_meas,Aer.get_backend('qasm_simulator'),shots = num_shots).result()\n",
    "    counts = result.get_counts(zz_meas)\n",
    "    \n",
    "    if '00' not in counts:\n",
    "        counts['00'] = 0\n",
    "    if '01' not in counts:\n",
    "        counts['01'] = 0\n",
    "    if '10' not in counts:\n",
    "        counts['10'] = 0\n",
    "    if '11' not in counts:\n",
    "        counts['11'] = 0\n",
    "        \n",
    "    '''\n",
    "    Remembering that:\n",
    "    \n",
    "    ZZ|00> = |00>\n",
    "    ZZ|01> = -|01>\n",
    "    ZZ|10> = -|10>\n",
    "    ZZ|11> = |11>\n",
    "    \n",
    "    '''\n",
    "    \n",
    "    total_counts = counts['00'] + counts['10'] + counts['01'] + counts['11']\n",
    "    ZZ = counts['00'] + counts['11'] - counts['01']  - counts['10'] \n",
    "    \n",
    "    zz = ZZ/total_counts\n",
    "    \n",
    "    return zz"
   ]
  },
  {
   "cell_type": "code",
   "execution_count": 105,
   "metadata": {},
   "outputs": [],
   "source": [
    "def measureXX(given_circuit):\n",
    "    xx_meas = given_circuit.copy()\n",
    "    \n",
    "    '''\n",
    "    Change from Z basis to X basis by applying Hadamard gate to each qubit    \n",
    "    '''\n",
    "    xx_meas.h(0)\n",
    "    xx_meas.h(1)\n",
    "    xx_meas.measure_all()\n",
    "    return xx_meas"
   ]
  },
  {
   "cell_type": "code",
   "execution_count": 106,
   "metadata": {},
   "outputs": [],
   "source": [
    "def measure_XX(given_circuit, num_shots = 10000):\n",
    "    \n",
    "    xx_meas = measureXX(given_circuit)\n",
    "    \n",
    "    result = execute(xx_meas,Aer.get_backend('qasm_simulator'),shots=num_shots).result()\n",
    "    counts = result.get_counts(xx_meas)\n",
    "    \n",
    "    if '00' not in counts:\n",
    "        counts['00'] = 0\n",
    "    if '01' not in counts:\n",
    "        counts['01'] = 0\n",
    "    if '10' not in counts:\n",
    "        counts['10'] = 0\n",
    "    if '11' not in counts:\n",
    "        counts['11'] = 0 \n",
    "        \n",
    "    total_counts = counts['00'] + counts['10'] +counts['01'] +counts['11']\n",
    "    \n",
    "    '''\n",
    "    XX -> ZZ\n",
    "    \n",
    "    '''\n",
    "    XX = counts['00'] + counts['11'] -counts['01'] -counts['10']\n",
    "    \n",
    "    XX = XX/total_counts\n",
    "    \n",
    "    return XX\n"
   ]
  },
  {
   "cell_type": "code",
   "execution_count": 107,
   "metadata": {},
   "outputs": [],
   "source": [
    "def measureYY(given_circuit):\n",
    "    yy_meas = given_circuit.copy()\n",
    "    \n",
    "    '''\n",
    "    Change each qubit from Z basis to Y basis by applying Sdagger gate followed by Hadamard gate\n",
    "    \n",
    "    '''\n",
    "    yy_meas.h(0)\n",
    "    yy_meas.h(1)\n",
    "    yy_meas.sdg(0)\n",
    "    yy_meas.sdg(1)\n",
    "    \n",
    "    \n",
    "    yy_meas.measure_all()\n",
    "    \n",
    "    return yy_meas"
   ]
  },
  {
   "cell_type": "code",
   "execution_count": 108,
   "metadata": {},
   "outputs": [],
   "source": [
    "def measure_YY(given_circuit,num_shots = 10000):\n",
    "    \n",
    "    yy_meas = measureYY(given_circuit)\n",
    "    \n",
    "    result = execute(yy_meas,Aer.get_backend('qasm_simulator'),shots=num_shots).result()\n",
    "    counts = result.get_counts(yy_meas)\n",
    "    \n",
    "    if '00' not in counts:\n",
    "        counts['00'] = 0\n",
    "    if '01' not in counts:\n",
    "        counts['01'] = 0\n",
    "    if '10' not in counts:\n",
    "        counts['10'] = 0\n",
    "    if '11' not in counts:\n",
    "        counts['11'] = 0\n",
    "        \n",
    "    '''\n",
    "    YY -> ZZ\n",
    "    '''\n",
    "    total_counts = counts['00']  + counts['10']  + counts['01']  + counts['11']   \n",
    "    YY =  counts ['00'] + counts['11'] - counts['10'] - counts['01'] \n",
    "    YY = YY/total_counts\n",
    "    \n",
    "    return YY"
   ]
  },
  {
   "cell_type": "code",
   "execution_count": 109,
   "metadata": {},
   "outputs": [],
   "source": [
    "\n",
    "\n",
    "def eigenvalues(given_circuit,num_shots = 10000):\n",
    "    \n",
    "    xx = measure_XX(given_circuit,num_shots=num_shots)\n",
    "    yy = measure_YY(given_circuit,num_shots=num_shots)\n",
    "    zz = measure_ZZ(given_circuit,num_shots=num_shots)\n",
    "    ii = 1\n",
    "    \n",
    "    energy = 0.5*zz + 0.5*ii - 0.5*yy - 0.5*xx\n",
    "    \n",
    "    return energy"
   ]
  },
  {
   "cell_type": "code",
   "execution_count": 110,
   "metadata": {},
   "outputs": [
    {
     "name": "stdout",
     "output_type": "stream",
     "text": [
      "Angle: 0.000000  <H>: 0.000000\n",
      "Angle: 0.049474  <H>: -0.000600\n",
      "Angle: 0.098948  <H>: -0.002400\n",
      "Angle: 0.148422  <H>: -0.005100\n",
      "Angle: 0.197896  <H>: -0.009500\n",
      "Angle: 0.247370  <H>: -0.015400\n",
      "Angle: 0.296843  <H>: -0.021000\n",
      "Angle: 0.346317  <H>: -0.027500\n",
      "Angle: 0.395791  <H>: -0.039900\n",
      "Angle: 0.445265  <H>: -0.048600\n",
      "Angle: 0.494739  <H>: -0.057600\n",
      "Angle: 0.544213  <H>: -0.073100\n",
      "Angle: 0.593687  <H>: -0.084100\n",
      "Angle: 0.643161  <H>: -0.101600\n",
      "Angle: 0.692635  <H>: -0.113400\n",
      "Angle: 0.742109  <H>: -0.127900\n",
      "Angle: 0.791582  <H>: -0.153800\n",
      "Angle: 0.841056  <H>: -0.167000\n",
      "Angle: 0.890530  <H>: -0.188900\n",
      "Angle: 0.940004  <H>: -0.205100\n",
      "Angle: 0.989478  <H>: -0.223500\n",
      "Angle: 1.038952  <H>: -0.249900\n",
      "Angle: 1.088426  <H>: -0.268200\n",
      "Angle: 1.137900  <H>: -0.292900\n",
      "Angle: 1.187374  <H>: -0.307700\n",
      "Angle: 1.236848  <H>: -0.334300\n",
      "Angle: 1.286321  <H>: -0.368900\n",
      "Angle: 1.335795  <H>: -0.380300\n",
      "Angle: 1.385269  <H>: -0.402900\n",
      "Angle: 1.434743  <H>: -0.426100\n",
      "Angle: 1.484217  <H>: -0.456100\n",
      "Angle: 1.533691  <H>: -0.486000\n",
      "Angle: 1.583165  <H>: -0.506500\n",
      "Angle: 1.632639  <H>: -0.526400\n",
      "Angle: 1.682113  <H>: -0.565000\n",
      "Angle: 1.731587  <H>: -0.579000\n",
      "Angle: 1.781060  <H>: -0.610800\n",
      "Angle: 1.830534  <H>: -0.621800\n",
      "Angle: 1.880008  <H>: -0.645600\n",
      "Angle: 1.929482  <H>: -0.679000\n",
      "Angle: 1.978956  <H>: -0.697400\n",
      "Angle: 2.028430  <H>: -0.724800\n",
      "Angle: 2.077904  <H>: -0.741100\n",
      "Angle: 2.127378  <H>: -0.761400\n",
      "Angle: 2.176852  <H>: -0.784700\n",
      "Angle: 2.226326  <H>: -0.805700\n",
      "Angle: 2.275799  <H>: -0.824300\n",
      "Angle: 2.325273  <H>: -0.837700\n",
      "Angle: 2.374747  <H>: -0.861200\n",
      "Angle: 2.424221  <H>: -0.879400\n",
      "Angle: 2.473695  <H>: -0.888800\n",
      "Angle: 2.523169  <H>: -0.905300\n",
      "Angle: 2.572643  <H>: -0.922700\n",
      "Angle: 2.622117  <H>: -0.934200\n",
      "Angle: 2.671591  <H>: -0.944500\n",
      "Angle: 2.721065  <H>: -0.955800\n",
      "Angle: 2.770538  <H>: -0.968200\n",
      "Angle: 2.820012  <H>: -0.974300\n",
      "Angle: 2.869486  <H>: -0.979800\n",
      "Angle: 2.918960  <H>: -0.988000\n",
      "Angle: 2.968434  <H>: -0.992100\n",
      "Angle: 3.017908  <H>: -0.996800\n",
      "Angle: 3.067382  <H>: -0.998700\n",
      "Angle: 3.116856  <H>: -0.999900\n",
      "Angle: 3.166330  <H>: -1.000000\n",
      "Angle: 3.215804  <H>: -0.998800\n",
      "Angle: 3.265277  <H>: -0.995900\n",
      "Angle: 3.314751  <H>: -0.992700\n",
      "Angle: 3.364225  <H>: -0.988300\n",
      "Angle: 3.413699  <H>: -0.983500\n",
      "Angle: 3.463173  <H>: -0.973400\n",
      "Angle: 3.512647  <H>: -0.962700\n",
      "Angle: 3.562121  <H>: -0.956200\n",
      "Angle: 3.611595  <H>: -0.947500\n",
      "Angle: 3.661069  <H>: -0.934500\n",
      "Angle: 3.710543  <H>: -0.924000\n",
      "Angle: 3.760016  <H>: -0.903400\n",
      "Angle: 3.809490  <H>: -0.886900\n",
      "Angle: 3.858964  <H>: -0.880100\n",
      "Angle: 3.908438  <H>: -0.855800\n",
      "Angle: 3.957912  <H>: -0.839500\n",
      "Angle: 4.007386  <H>: -0.824600\n",
      "Angle: 4.056860  <H>: -0.808500\n",
      "Angle: 4.106334  <H>: -0.786600\n",
      "Angle: 4.155808  <H>: -0.767800\n",
      "Angle: 4.205282  <H>: -0.742800\n",
      "Angle: 4.254755  <H>: -0.716100\n",
      "Angle: 4.304229  <H>: -0.698500\n",
      "Angle: 4.353703  <H>: -0.677300\n",
      "Angle: 4.403177  <H>: -0.650300\n",
      "Angle: 4.452651  <H>: -0.616300\n",
      "Angle: 4.502125  <H>: -0.602200\n",
      "Angle: 4.551599  <H>: -0.572300\n",
      "Angle: 4.601073  <H>: -0.556300\n",
      "Angle: 4.650547  <H>: -0.528400\n",
      "Angle: 4.700021  <H>: -0.496100\n",
      "Angle: 4.749494  <H>: -0.490700\n",
      "Angle: 4.798968  <H>: -0.457200\n",
      "Angle: 4.848442  <H>: -0.424300\n",
      "Angle: 4.897916  <H>: -0.406900\n",
      "Angle: 4.947390  <H>: -0.382500\n",
      "Angle: 4.996864  <H>: -0.355800\n",
      "Angle: 5.046338  <H>: -0.336200\n",
      "Angle: 5.095812  <H>: -0.312400\n",
      "Angle: 5.145286  <H>: -0.290500\n",
      "Angle: 5.194760  <H>: -0.274700\n",
      "Angle: 5.244233  <H>: -0.242600\n",
      "Angle: 5.293707  <H>: -0.232200\n",
      "Angle: 5.343181  <H>: -0.204600\n",
      "Angle: 5.392655  <H>: -0.174100\n",
      "Angle: 5.442129  <H>: -0.175700\n",
      "Angle: 5.491603  <H>: -0.150600\n",
      "Angle: 5.541077  <H>: -0.135200\n",
      "Angle: 5.590551  <H>: -0.120000\n",
      "Angle: 5.640025  <H>: -0.099200\n",
      "Angle: 5.689499  <H>: -0.083900\n",
      "Angle: 5.738972  <H>: -0.076400\n",
      "Angle: 5.788446  <H>: -0.063100\n",
      "Angle: 5.837920  <H>: -0.048100\n",
      "Angle: 5.887394  <H>: -0.037000\n",
      "Angle: 5.936868  <H>: -0.028800\n",
      "Angle: 5.986342  <H>: -0.021500\n",
      "Angle: 6.035816  <H>: -0.015000\n",
      "Angle: 6.085290  <H>: -0.009900\n",
      "Angle: 6.134764  <H>: -0.004900\n",
      "Angle: 6.184238  <H>: -0.003500\n",
      "Angle: 6.233711  <H>: -0.000100\n",
      "Angle: 6.283185  <H>: 0.000000\n"
     ]
    }
   ],
   "source": [
    "H = []\n",
    "\n",
    "angle = np.linspace(0,2*np.pi,128)\n",
    "\n",
    "for i in range(0,len(angle)):\n",
    "\n",
    "    ansatz = var_circuit(variational_parameter= angle[i])\n",
    "    energy = eigenvalues(ansatz)\n",
    "    H.append(energy)\n",
    "    print('Angle: %f  <H>: %f' %(angle[i],energy))"
   ]
  },
  {
   "cell_type": "code",
   "execution_count": 113,
   "metadata": {},
   "outputs": [
    {
     "name": "stdout",
     "output_type": "stream",
     "text": [
      "Opt angle = 3.166330 H_min = -1.000000\n"
     ]
    },
    {
     "data": {
      "image/png": "[encoded data removed]",
      "text/plain": [
       "<Figure size 432x288 with 1 Axes>"
      ]
     },
     "metadata": {
      "needs_background": "light"
     },
     "output_type": "display_data"
    }
   ],
   "source": [
    "gc = plt.plot(angle,H)\n",
    "plt.title('<H> x Angle')\n",
    "a = H.index(min(H))\n",
    "print('Opt angle = %f H_min = %f' %(angle[a],min(H)))"
   ]
  },
  {
   "cell_type": "code",
   "execution_count": null,
   "metadata": {},
   "outputs": [],
   "source": []
  },
  {
   "cell_type": "code",
   "execution_count": null,
   "metadata": {},
   "outputs": [],
   "source": []
  },
  {
   "cell_type": "code",
   "execution_count": null,
   "metadata": {},
   "outputs": [],
   "source": []
  },
  {
   "cell_type": "code",
   "execution_count": null,
   "metadata": {},
   "outputs": [],
   "source": []
  },
  {
   "cell_type": "code",
   "execution_count": null,
   "metadata": {},
   "outputs": [],
   "source": []
  }
 ],
 "metadata": {
  "kernelspec": {
   "display_name": "Python 3",
   "language": "python",
   "name": "python3"
  },
  "language_info": {
   "codemirror_mode": {
    "name": "ipython",
    "version": 3
   },
   "file_extension": ".py",
   "mimetype": "text/x-python",
   "name": "python",
   "nbconvert_exporter": "python",
   "pygments_lexer": "ipython3",
   "version": "3.7.6"
  }
 },
 "nbformat": 4,
 "nbformat_minor": 4
}
