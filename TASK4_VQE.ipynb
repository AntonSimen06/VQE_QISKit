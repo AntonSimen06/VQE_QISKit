{
 "cells": [
  {
   "cell_type": "markdown",
   "metadata": {},
   "source": [
    "# Finding the lowest eigenvalue of a matrix\n",
    "\n",
    "### Task 4 - qosf\n",
    "### Author: Anton Simen Albino"
   ]
  },
  {
   "cell_type": "code",
   "execution_count": 1,
   "metadata": {},
   "outputs": [
    {
     "name": "stdout",
     "output_type": "stream",
     "text": [
      "[[ 1  0  0  0]\n",
      " [ 0  0 -1  0]\n",
      " [ 0 -1  0  0]\n",
      " [ 0  0  0  1]]\n"
     ]
    }
   ],
   "source": [
    "import numpy as np\n",
    "\n",
    "H = np.matrix([[1,0,0,0],[0,0,-1,0],[0,-1,0,0],[0,0,0,1]])\n",
    "\n",
    "print(H)"
   ]
  },
  {
   "cell_type": "markdown",
   "metadata": {},
   "source": [
    "#### In order to write the matrix $H$ above as a sum of Pauli terms $(XX, YY, ZZ, II)$, we can use the following expression\n",
    "#### $$H = \\sum h_{i,j}\\left(\\sigma_i\\otimes\\sigma_j\\right)$$\n",
    "#### where $$h_{i,j}=\\frac{1}{4}Tr[\\left(\\sigma_i\\otimes\\sigma_j\\right). H]$$"
   ]
  },
  {
   "cell_type": "code",
   "execution_count": 2,
   "metadata": {},
   "outputs": [],
   "source": [
    "#first, we create the proposed Pauli terms\n",
    "\n",
    "# XX is the tensor product between X and X \n",
    "xx = np.matrix([[0,0,0,1],[0,0,1,0],[0,1,0,0],[1,0,0,0]])\n",
    "\n",
    "# and so on\n",
    "yy = np.matrix([[0,0,0,-1],[0,0,1,0],[0,1,0,0],[-1,0,0,0]])\n",
    "zz = np.matrix([[1,0,0,0],[0,-1,0,0],[0,0,-1,0],[0,0,0,1]])\n",
    "ii = np.matrix([[1,0,0,0],[0,1,0,0],[0,0,1,0],[0,0,0,1]])\n"
   ]
  },
  {
   "cell_type": "code",
   "execution_count": 3,
   "metadata": {
    "scrolled": true
   },
   "outputs": [
    {
     "name": "stdout",
     "output_type": "stream",
     "text": [
      "H =\n",
      "-0.5*XX\n",
      "-0.5*YY\n",
      "0.5*ZZ\n",
      "0.5*II\n"
     ]
    }
   ],
   "source": [
    "#next, we use the expression above to write matrix H as a sum of Pauli terms\n",
    "coef_xx = 0.25*np.trace(np.matmul(xx, H))\n",
    "coef_yy = 0.25*np.trace(np.matmul(yy, H))\n",
    "coef_zz = 0.25*np.trace(np.matmul(zz, H))\n",
    "coef_ii = 0.25*np.trace(np.matmul(ii, H))\n",
    "\n",
    "print('H =')\n",
    "print('%.1f*XX' %(coef_xx))\n",
    "print('%.1f*YY' %(coef_yy))\n",
    "print('%.1f*ZZ' %(coef_zz))\n",
    "print('%.1f*II' %(coef_ii))"
   ]
  },
  {
   "cell_type": "markdown",
   "metadata": {},
   "source": [
    "## Variational Quantum Eigensolver (VQE)\n",
    "\n",
    "##### According https://qiskit.org/textbook/ch-applications/vqe-molecules.html the VQE can be stated by \n",
    "\n",
    "##### $$\\lambda_{min}≤\\lambda_{\\theta}≡ \\langle\\psi\\left(\\theta\\right)|H|\\psi\\left(\\theta\\right)\\rangle$$\n",
    "\n",
    "##### $|\\psi\\left(\\theta\\right)\\rangle$ is a parametrized circuit called ansatz. In order to estimate the lowest eigenvalue of operator *H*, the circuit is iteratively optimized by a classical controller changing the parameter  $θ$  minimizing the expectation value $\\langle\\psi\\left(\\theta\\right)|H|\\psi\\left(\\theta\\right)\\rangle$.\n",
    "\n",
    "##### In this task the given $H$ is represented as a sum of pauli terms as follow\n",
    "\n",
    "##### $$H=\\frac{1}{2}ZZ+\\frac{1}{2}II-\\frac{1}{2}XX-\\frac{1}{2}YY$$\n",
    "\n",
    "##### for each iteration we have the expected value of H as the sum of the expected values of each Pauli operator\n",
    "\n",
    "##### $$\\langle\\psi\\left(\\theta\\right)|H|\\psi\\left(\\theta\\right)\\rangle = \\frac{1}{2}\\langle\\psi\\left(\\theta\\right)|ZZ|\\psi\\left(\\theta\\right)\\rangle + \\frac{1}{2}\\langle\\psi\\left(\\theta\\right)|II|\\psi\\left(\\theta\\right)\\rangle - \\frac{1}{2}\\langle\\psi\\left(\\theta\\right)|XX|\\psi\\left(\\theta\\right)\\rangle -\\frac{1}{2}\\langle\\psi\\left(\\theta\\right)|YY|\\psi\\left(\\theta\\right)\\rangle$$\n",
    "\n",
    "\n",
    "##### Next, we create an ansatz"
   ]
  },
  {
   "cell_type": "code",
   "execution_count": 4,
   "metadata": {},
   "outputs": [],
   "source": [
    "import qiskit \n",
    "from qiskit import *\n",
    "from qiskit.visualization import *\n",
    "from qiskit.tools.visualization import *\n",
    "from qiskit.circuit import *"
   ]
  },
  {
   "cell_type": "code",
   "execution_count": 5,
   "metadata": {},
   "outputs": [],
   "source": [
    "\n",
    "m=100 #number of iterations/values of theta\n",
    "theta_range = np.linspace(0, np.pi, m) # list of theta where 0.05 <= theta <= 2.00\n",
    "H = []# list which stores <H> for each theta \n",
    "iteration = []\n"
   ]
  },
  {
   "cell_type": "code",
   "execution_count": 6,
   "metadata": {
    "scrolled": false
   },
   "outputs": [
    {
     "data": {
      "image/png": "[encoded data removed]",
      "text/plain": [
       "<Figure size 682.432x204.68 with 1 Axes>"
      ]
     },
     "execution_count": 6,
     "metadata": {},
     "output_type": "execute_result"
    }
   ],
   "source": [
    "ansatz = QuantumCircuit(2,2)\n",
    "ansatz.rx(theta_range, [0,1])\n",
    "ansatz.ry(theta_range, [0,1])\n",
    "ansatz.cx(0,1)\n",
    "ansatz.rx(theta_range, [0,1])\n",
    "ansatz.ry(theta_range, [0,1])\n",
    "ansatz.cx(0,1)\n",
    "ansatz.rx(theta_range, [0,1])\n",
    "ansatz.ry(theta_range, [0,1])\n",
    "ansatz.barrier()\n",
    "ansatz.draw(output='mpl')\n"
   ]
  },
  {
   "cell_type": "markdown",
   "metadata": {},
   "source": [
    "##### We can measure $\\langle XX\\rangle$ and $\\langle YY\\rangle$ at computational Z basis by applying a rotation before the measurement. \n",
    "https://docs.microsoft.com/pt-br/quantum/concepts/pauli-measurements \n",
    "\n",
    "https://qiskit.org/textbook/ch-states/single-qubit-gates.html#measuring"
   ]
  },
  {
   "cell_type": "code",
   "execution_count": 7,
   "metadata": {},
   "outputs": [
    {
     "data": {
      "image/png": "[encoded data removed]",
      "text/plain": [
       "<Figure size 261.032x204.68 with 1 Axes>"
      ]
     },
     "execution_count": 7,
     "metadata": {},
     "output_type": "execute_result"
    }
   ],
   "source": [
    "# measure at Z (computational) basis\n",
    "measure_zz = QuantumCircuit(2,2)\n",
    "measure_zz.measure(range(2),range(2))\n",
    "measure_zz.draw(output='mpl')"
   ]
  },
  {
   "cell_type": "code",
   "execution_count": 8,
   "metadata": {},
   "outputs": [
    {
     "data": {
      "image/png": "[encoded data removed]",
      "text/plain": [
       "<Figure size 321.232x204.68 with 1 Axes>"
      ]
     },
     "execution_count": 8,
     "metadata": {},
     "output_type": "execute_result"
    }
   ],
   "source": [
    "# measure at x basis\n",
    "measure_xx = QuantumCircuit(2,2)\n",
    "measure_xx.h(range(2))\n",
    "measure_xx.measure(range(2),range(2))\n",
    "measure_xx.draw(output='mpl')"
   ]
  },
  {
   "cell_type": "code",
   "execution_count": 9,
   "metadata": {},
   "outputs": [
    {
     "data": {
      "image/png": "[encoded data removed]",
      "text/plain": [
       "<Figure size 381.432x204.68 with 1 Axes>"
      ]
     },
     "execution_count": 9,
     "metadata": {},
     "output_type": "execute_result"
    }
   ],
   "source": [
    "# measure at y basis\n",
    "measure_yy = QuantumCircuit(2,2)\n",
    "measure_yy.h(range(2))\n",
    "measure_yy.sdg(range(2))\n",
    "measure_yy.measure(range(2),range(2))\n",
    "measure_yy.draw(output='mpl')"
   ]
  },
  {
   "cell_type": "code",
   "execution_count": null,
   "metadata": {},
   "outputs": [],
   "source": []
  },
  {
   "cell_type": "code",
   "execution_count": 10,
   "metadata": {
    "scrolled": true
   },
   "outputs": [
    {
     "name": "stdout",
     "output_type": "stream",
     "text": [
      "it: 1 ; theta=0.03173 ; <H>= -0.01580\n",
      "it: 2 ; theta=0.06347 ; <H>= -0.01470\n",
      "it: 3 ; theta=0.09520 ; <H>= 0.00280\n",
      "it: 4 ; theta=0.12693 ; <H>= 0.00730\n",
      "it: 5 ; theta=0.15867 ; <H>= 0.05720\n",
      "it: 6 ; theta=0.19040 ; <H>= 0.07190\n",
      "it: 7 ; theta=0.22213 ; <H>= 0.12600\n",
      "it: 8 ; theta=0.25387 ; <H>= 0.14440\n",
      "it: 9 ; theta=0.28560 ; <H>= 0.18270\n",
      "it: 10 ; theta=0.31733 ; <H>= 0.17380\n",
      "it: 11 ; theta=0.34907 ; <H>= 0.20020\n",
      "it: 12 ; theta=0.38080 ; <H>= 0.22620\n",
      "it: 13 ; theta=0.41253 ; <H>= 0.21220\n",
      "it: 14 ; theta=0.44427 ; <H>= 0.22470\n",
      "it: 15 ; theta=0.47600 ; <H>= 0.24020\n",
      "it: 16 ; theta=0.50773 ; <H>= 0.28510\n",
      "it: 17 ; theta=0.53947 ; <H>= 0.32940\n",
      "it: 18 ; theta=0.57120 ; <H>= 0.40380\n",
      "it: 19 ; theta=0.60293 ; <H>= 0.48290\n",
      "it: 20 ; theta=0.63467 ; <H>= 0.57850\n",
      "it: 21 ; theta=0.66640 ; <H>= 0.67570\n",
      "it: 22 ; theta=0.69813 ; <H>= 0.76830\n",
      "it: 23 ; theta=0.72986 ; <H>= 0.88560\n",
      "it: 24 ; theta=0.76160 ; <H>= 0.97980\n",
      "it: 25 ; theta=0.79333 ; <H>= 1.06420\n",
      "it: 26 ; theta=0.82506 ; <H>= 1.12390\n",
      "it: 27 ; theta=0.85680 ; <H>= 1.16430\n",
      "it: 28 ; theta=0.88853 ; <H>= 1.16740\n",
      "it: 29 ; theta=0.92026 ; <H>= 1.12980\n",
      "it: 30 ; theta=0.95200 ; <H>= 1.10210\n",
      "it: 31 ; theta=0.98373 ; <H>= 0.98680\n",
      "it: 32 ; theta=1.01546 ; <H>= 0.88280\n",
      "it: 33 ; theta=1.04720 ; <H>= 0.74250\n",
      "it: 34 ; theta=1.07893 ; <H>= 0.59420\n",
      "it: 35 ; theta=1.11066 ; <H>= 0.40440\n",
      "it: 36 ; theta=1.14240 ; <H>= 0.24470\n",
      "it: 37 ; theta=1.17413 ; <H>= 0.09800\n",
      "it: 38 ; theta=1.20586 ; <H>= -0.06330\n",
      "it: 39 ; theta=1.23760 ; <H>= -0.21430\n",
      "it: 40 ; theta=1.26933 ; <H>= -0.33940\n",
      "it: 41 ; theta=1.30106 ; <H>= -0.44660\n",
      "it: 42 ; theta=1.33280 ; <H>= -0.51400\n",
      "it: 43 ; theta=1.36453 ; <H>= -0.58180\n",
      "it: 44 ; theta=1.39626 ; <H>= -0.60730\n",
      "it: 45 ; theta=1.42800 ; <H>= -0.61990\n",
      "it: 46 ; theta=1.45973 ; <H>= -0.61860\n",
      "it: 47 ; theta=1.49146 ; <H>= -0.59120\n",
      "it: 48 ; theta=1.52320 ; <H>= -0.55920\n",
      "it: 51 ; theta=1.61840 ; <H>= -0.43200\n",
      "it: 52 ; theta=1.65013 ; <H>= -0.36410\n",
      "it: 53 ; theta=1.68186 ; <H>= -0.30970\n",
      "it: 54 ; theta=1.71360 ; <H>= -0.25240\n",
      "it: 55 ; theta=1.74533 ; <H>= -0.19880\n",
      "it: 56 ; theta=1.77706 ; <H>= -0.14370\n",
      "it: 57 ; theta=1.80880 ; <H>= -0.09100\n",
      "it: 58 ; theta=1.84053 ; <H>= -0.02220\n",
      "it: 59 ; theta=1.87226 ; <H>= 0.04270\n",
      "it: 60 ; theta=1.90400 ; <H>= 0.10510\n",
      "it: 61 ; theta=1.93573 ; <H>= 0.16410\n",
      "it: 62 ; theta=1.96746 ; <H>= 0.21600\n",
      "it: 63 ; theta=1.99920 ; <H>= 0.26150\n",
      "it: 64 ; theta=2.03093 ; <H>= 0.30190\n",
      "it: 65 ; theta=2.06266 ; <H>= 0.35650\n",
      "it: 66 ; theta=2.09440 ; <H>= 0.40550\n",
      "it: 67 ; theta=2.12613 ; <H>= 0.43830\n",
      "it: 68 ; theta=2.15786 ; <H>= 0.46200\n",
      "it: 69 ; theta=2.18959 ; <H>= 0.49610\n",
      "it: 70 ; theta=2.22133 ; <H>= 0.49750\n",
      "it: 71 ; theta=2.25306 ; <H>= 0.49970\n",
      "it: 72 ; theta=2.28479 ; <H>= 0.51070\n",
      "it: 73 ; theta=2.31653 ; <H>= 0.50780\n",
      "it: 74 ; theta=2.34826 ; <H>= 0.50940\n",
      "it: 75 ; theta=2.37999 ; <H>= 0.51350\n",
      "it: 76 ; theta=2.41173 ; <H>= 0.53200\n",
      "it: 77 ; theta=2.44346 ; <H>= 0.53310\n",
      "it: 78 ; theta=2.47519 ; <H>= 0.54500\n",
      "it: 79 ; theta=2.50693 ; <H>= 0.53790\n",
      "it: 80 ; theta=2.53866 ; <H>= 0.55520\n",
      "it: 81 ; theta=2.57039 ; <H>= 0.54490\n",
      "it: 82 ; theta=2.60213 ; <H>= 0.53860\n",
      "it: 83 ; theta=2.63386 ; <H>= 0.57300\n",
      "it: 84 ; theta=2.66559 ; <H>= 0.54370\n",
      "it: 85 ; theta=2.69733 ; <H>= 0.53680\n",
      "it: 86 ; theta=2.72906 ; <H>= 0.53180\n",
      "it: 87 ; theta=2.76079 ; <H>= 0.52600\n",
      "it: 88 ; theta=2.79253 ; <H>= 0.51000\n",
      "it: 89 ; theta=2.82426 ; <H>= 0.46380\n",
      "it: 90 ; theta=2.85599 ; <H>= 0.42050\n",
      "it: 91 ; theta=2.88773 ; <H>= 0.38970\n",
      "it: 92 ; theta=2.91946 ; <H>= 0.33820\n",
      "it: 93 ; theta=2.95119 ; <H>= 0.29530\n",
      "it: 94 ; theta=2.98293 ; <H>= 0.24010\n",
      "it: 95 ; theta=3.01466 ; <H>= 0.17420\n",
      "it: 96 ; theta=3.04639 ; <H>= 0.13500\n",
      "it: 97 ; theta=3.07813 ; <H>= 0.07670\n",
      "it: 98 ; theta=3.10986 ; <H>= 0.02260\n"
     ]
    }
   ],
   "source": [
    "simulator = Aer.get_backend('qasm_simulator')\n",
    "\n",
    "for i in range(m):\n",
    "    try:\n",
    "        # create a ansatz changing theta for each iteration\n",
    "        ansatz = QuantumCircuit(2,2)\n",
    "        ansatz.rx(3*theta_range[i], [0,1])\n",
    "        ansatz.ry(theta_range[i], [0,1])\n",
    "        ansatz.cx(0,1)\n",
    "        ansatz.rx(theta_range[i], [0,1])\n",
    "        ansatz.ry(np.pi - theta_range[i], [0,1])\n",
    "        ansatz.cx(0,1)\n",
    "        ansatz.rx(theta_range[i], [0,1])\n",
    "        ansatz.ry(np.pi - theta_range[i], [0,1])\n",
    "        \n",
    "        ansatz.barrier()\n",
    "\n",
    "        ansatz_zz = QuantumCircuit(2,2)\n",
    "        ansatz_zz = ansatz.compose(measure_zz) #measure ansatz at Z basis\n",
    "\n",
    "        result = execute(ansatz_zz, backend = simulator, shots=10000).result()\n",
    "        counts = result.get_counts(ansatz_zz)\n",
    "\n",
    "        # calculate <ZZ>\n",
    "        # Remembering that Z|0>=|0> and Z|1>=-|1>\n",
    "        total_counts = counts['00'] + counts['11'] + counts['01'] + counts['10']\n",
    "        zz = counts['00'] + counts['11'] - counts['01'] - counts['10']\n",
    "        zz = zz / total_counts\n",
    "\n",
    "        # calculate <II> = 1\n",
    "        ii = counts['00'] + counts['11'] + counts['01'] + counts['10']\n",
    "        ii = ii / total_counts\n",
    "\n",
    "\n",
    "\n",
    "        ansatz_xx = QuantumCircuit(2,2)\n",
    "        ansatz_xx = ansatz.compose(measure_xx) #measure ansatz at X basis\n",
    "\n",
    "\n",
    "        result2 = execute(ansatz_xx, backend = simulator, shots=10000).result()\n",
    "        counts2 = result2.get_counts(ansatz_xx)\n",
    "\n",
    "        # calculate <XX>\n",
    "        # As we made a transformation in the ansatz before measurement XX -> ZZ\n",
    "        total_counts2 = counts2['00'] + counts2['11'] + counts2['01'] + counts2['10']\n",
    "        xx = counts2['00'] + counts2['11'] - counts2['01'] - counts2['10'] \n",
    "        xx = xx / total_counts2\n",
    "\n",
    "\n",
    "\n",
    "        ansatz_yy = QuantumCircuit(2,2)\n",
    "        ansatz_yy = ansatz.compose(measure_yy) #measure ansatz at Y basis\n",
    "\n",
    "\n",
    "        result3 = execute(ansatz_yy, backend = simulator, shots=10000).result()\n",
    "        counts3 = result3.get_counts(ansatz_yy)\n",
    "\n",
    "        # calculate <YY>\n",
    "        # As we made a transformation in the ansatz before measurement YY -> ZZ\n",
    "        total_counts3 = counts3['00'] + counts3['11'] + counts3['01'] + counts3['10']\n",
    "        yy = counts3['00'] + counts3['11'] - counts3['01'] - counts3['10']\n",
    "        yy = yy / total_counts3\n",
    "    \n",
    "    \n",
    "        h = 0.5*zz + 0.5*ii - 0.5*xx - 0.5*yy #takes the expectation value <H> for each theta\n",
    "\n",
    "        print(\"it:\", i , \"; theta=%.5f\" %(theta_range[i]), \"; <H>= %.5f\" %(h))\n",
    "\n",
    "        H.append(h) #stores values of <H> in a list\n",
    "        iteration.append(i)\n",
    "    except:\n",
    "        theta_range[i]=i*np.pi\n",
    "        \n",
    "\n",
    "        "
   ]
  },
  {
   "cell_type": "code",
   "execution_count": 11,
   "metadata": {},
   "outputs": [
    {
     "data": {
      "image/png": "[encoded data removed]",
      "text/plain": [
       "<Figure size 432x288 with 1 Axes>"
      ]
     },
     "metadata": {
      "needs_background": "light"
     },
     "output_type": "display_data"
    }
   ],
   "source": [
    "\n",
    "import matplotlib.pyplot as plt\n",
    "plt.plot(iteration,H , 'g--', color='blue')\n",
    "plt.title('VQE') \n",
    "plt.xlabel('it')\n",
    "plt.ylabel('Expectation Value <H>')\n",
    "plt.show()"
   ]
  },
  {
   "cell_type": "code",
   "execution_count": 17,
   "metadata": {},
   "outputs": [
    {
     "name": "stdout",
     "output_type": "stream",
     "text": [
      "The lowest eigenvalue of the matrix is: <H>min = -0.6199\n",
      "Angles that minimizes the expectation value: theta = 0.4444pi\n"
     ]
    }
   ],
   "source": [
    "# takes the smallest value of <H> and theta related\n",
    "\n",
    "pos = H.index(min(H))\n",
    "print('The lowest eigenvalue of the matrix is: <H>min = %.4f' %(min(H)))\n",
    "print(\"Angles that minimizes the expectation value: theta = %.4fpi\" %(theta_range[pos]/np.pi))"
   ]
  },
  {
   "cell_type": "markdown",
   "metadata": {},
   "source": [
    "#### We can plot the circuits in order to check the last iteration."
   ]
  },
  {
   "cell_type": "code",
   "execution_count": 13,
   "metadata": {},
   "outputs": [
    {
     "data": {
      "image/png": "[encoded data removed]",
      "text/plain": [
       "<Figure size 802.832x204.68 with 1 Axes>"
      ]
     },
     "execution_count": 13,
     "metadata": {},
     "output_type": "execute_result"
    }
   ],
   "source": [
    "ansatz_zz.draw(output='mpl')"
   ]
  },
  {
   "cell_type": "code",
   "execution_count": 14,
   "metadata": {},
   "outputs": [
    {
     "data": {
      "image/png": "[encoded data removed]",
      "text/plain": [
       "<Figure size 863.032x204.68 with 1 Axes>"
      ]
     },
     "execution_count": 14,
     "metadata": {},
     "output_type": "execute_result"
    }
   ],
   "source": [
    "ansatz_xx.draw(output='mpl')"
   ]
  },
  {
   "cell_type": "code",
   "execution_count": 15,
   "metadata": {},
   "outputs": [
    {
     "data": {
      "image/png": "[encoded data removed]",
      "text/plain": [
       "<Figure size 923.232x204.68 with 1 Axes>"
      ]
     },
     "execution_count": 15,
     "metadata": {},
     "output_type": "execute_result"
    }
   ],
   "source": [
    "ansatz_yy.draw(output='mpl')"
   ]
  },
  {
   "cell_type": "code",
   "execution_count": null,
   "metadata": {},
   "outputs": [],
   "source": []
  }
 ],
 "metadata": {
  "kernelspec": {
   "display_name": "Python 3",
   "language": "python",
   "name": "python3"
  },
  "language_info": {
   "codemirror_mode": {
    "name": "ipython",
    "version": 3
   },
   "file_extension": ".py",
   "mimetype": "text/x-python",
   "name": "python",
   "nbconvert_exporter": "python",
   "pygments_lexer": "ipython3",
   "version": "3.7.6"
  }
 },
 "nbformat": 4,
 "nbformat_minor": 4
}
